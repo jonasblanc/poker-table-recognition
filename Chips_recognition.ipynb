{
 "cells": [
  {
   "cell_type": "markdown",
   "id": "d465e23e",
   "metadata": {},
   "source": [
    "# Recognition pipeline"
   ]
  },
  {
   "cell_type": "code",
   "execution_count": null,
   "id": "065ac4cc",
   "metadata": {},
   "outputs": [],
   "source": [
    "%load_ext autoreload\n",
    "%autoreload 2"
   ]
  },
  {
   "cell_type": "code",
   "execution_count": 58,
   "id": "d4c46bf6",
   "metadata": {},
   "outputs": [],
   "source": [
    "import PIL.Image\n",
    "import pandas as pd\n",
    "import cv2\n",
    "from math import floor\n",
    "import numpy as np\n",
    "import os\n",
    "import matplotlib.pyplot as plt\n",
    "from recognition_functions import *\n",
    "from plot_helper import *\n",
    "from table_extractor import *\n",
    "from chip_recognition import *\n",
    "from collections import defaultdict"
   ]
  },
  {
   "cell_type": "code",
   "execution_count": null,
   "id": "db2c4437",
   "metadata": {},
   "outputs": [],
   "source": [
    "path_data = \"data/train\"\n",
    "path_setup = \"data/image_setup/\"\n",
    "\n",
    "file = os.path.join(path_data, f\"train_{str(0).zfill(2)}.jpg\")\n",
    "file_xtrem = os.path.join(path_setup, \"ultimate_test.jpg\")\n",
    "\n",
    "# open the image\n",
    "im_xtrem = PIL.Image.open(file_xtrem)\n",
    "plt.imshow(im_xtrem)\n",
    "plt.show()\n",
    "\n",
    "# open the image\n",
    "im = PIL.Image.open(file)\n",
    "plt.imshow(im)\n",
    "plt.show()"
   ]
  },
  {
   "cell_type": "markdown",
   "id": "e2218ccc",
   "metadata": {},
   "source": [
    "### Read images"
   ]
  },
  {
   "cell_type": "code",
   "execution_count": null,
   "id": "a223030a",
   "metadata": {
    "scrolled": false
   },
   "outputs": [],
   "source": [
    "images = []\n",
    "\n",
    "for i in range(28):\n",
    "    #if i not in problematic_imgs:\n",
    "    file = os.path.join(path_data, f\"train_{str(i).zfill(2)}.jpg\")\n",
    "    im = PIL.Image.open(file)\n",
    "    images.append(np.array(im))"
   ]
  },
  {
   "cell_type": "code",
   "execution_count": null,
   "id": "fde6c499",
   "metadata": {
    "scrolled": false
   },
   "outputs": [],
   "source": [
    "plt.imshow(images[0])\n",
    "plt.show()"
   ]
  },
  {
   "cell_type": "markdown",
   "id": "62eaccee",
   "metadata": {},
   "source": [
    "### Extract table"
   ]
  },
  {
   "cell_type": "code",
   "execution_count": null,
   "id": "f5bb2a9d",
   "metadata": {},
   "outputs": [],
   "source": [
    "table_imgs = []\n",
    "for img in images:\n",
    "    table_img = TableExtractor.extract_table(img,plot=False)\n",
    "    table_imgs.append(table_img)"
   ]
  },
  {
   "cell_type": "markdown",
   "id": "de6fee89",
   "metadata": {},
   "source": [
    "### Partition image"
   ]
  },
  {
   "cell_type": "code",
   "execution_count": null,
   "id": "519d1ad3",
   "metadata": {},
   "outputs": [],
   "source": [
    "partitions = []\n",
    "for table_img in table_imgs:\n",
    "    partition = partition_image(table_img)\n",
    "    partitions.append(partition)"
   ]
  },
  {
   "cell_type": "markdown",
   "id": "e4d007e6",
   "metadata": {},
   "source": [
    "### Manual Treshold Fine-tuning"
   ]
  },
  {
   "cell_type": "code",
   "execution_count": null,
   "id": "d0e6f2bc",
   "metadata": {},
   "outputs": [],
   "source": [
    "#Create overall image by concatenating 25 out of 28 partitions\n",
    "chips_all = None\n",
    "for i in range(5):\n",
    "    chips_row = None\n",
    "    for j in range(5):\n",
    "        chips = partitions[i*5+j]['chips']\n",
    "        if(type(chips_row)==type(None)):\n",
    "            chips_row = chips\n",
    "        else:\n",
    "            chips_row = np.concatenate([chips_row,chips],axis=1)\n",
    "    if(type(chips_all)==type(None)):\n",
    "        chips_all = chips_row\n",
    "    else:\n",
    "        chips_all = np.concatenate([chips_all,chips_row],axis=0)\n",
    "\n",
    "    chips_row = None\n",
    "\n",
    "chips_all = cv2.medianBlur(chips_all,ksize=51)\n",
    "plt.imshow(chips_all)\n",
    "plt.show()\n",
    "\n",
    "chips_reduced = cv2.resize(chips_all, (2000,2000), interpolation = cv2.INTER_AREA)\n",
    "plt.imshow(chips_reduced)\n",
    "plt.show()"
   ]
  },
  {
   "cell_type": "code",
   "execution_count": null,
   "id": "de18e71f",
   "metadata": {},
   "outputs": [],
   "source": [
    "from chip_recognition import *\n",
    "\n",
    "chips_rgb = chips_reduced\n",
    "\n",
    "window_treshold(chips_rgb,HSV_COLOR_BOUNDS,color='blue')"
   ]
  },
  {
   "cell_type": "markdown",
   "id": "885d3d3e",
   "metadata": {},
   "source": [
    "### Count chips"
   ]
  },
  {
   "cell_type": "code",
   "execution_count": 62,
   "id": "ef7d2728",
   "metadata": {},
   "outputs": [
    {
     "name": "stdout",
     "output_type": "stream",
     "text": [
      "Detected 1 tokens of color red\n",
      "Detected 1 tokens of color green\n",
      "Detected 3 tokens of color blue\n",
      "Predicted 1 chips of R actual is 1\n",
      "Predicted 1 chips of G actual is 1\n",
      "Predicted 3 chips of B actual is 1\n",
      "Detected 2 tokens of color red\n",
      "Detected 1 tokens of color green\n",
      "Detected 1 tokens of color blue\n",
      "Predicted 2 chips of R actual is 2\n",
      "Predicted 1 chips of G actual is 0\n",
      "Predicted 1 chips of B actual is 1\n",
      "Detected 0 tokens of color red\n",
      "Detected 2 tokens of color green\n",
      "Detected 9 tokens of color blue\n",
      "Predicted 0 chips of R actual is 0\n",
      "Predicted 2 chips of G actual is 0\n",
      "Predicted 9 chips of B actual is 8\n",
      "Detected 0 tokens of color red\n",
      "Detected 6 tokens of color green\n",
      "Detected 4 tokens of color blue\n",
      "Predicted 0 chips of R actual is 0\n",
      "Predicted 6 chips of G actual is 2\n",
      "Predicted 4 chips of B actual is 4\n",
      "Detected 2 tokens of color red\n",
      "Detected 1 tokens of color green\n",
      "Detected 1 tokens of color blue\n",
      "Predicted 2 chips of R actual is 3\n",
      "Predicted 1 chips of G actual is 1\n",
      "Predicted 1 chips of B actual is 1\n",
      "Detected 2 tokens of color red\n",
      "Detected 3 tokens of color green\n",
      "Detected 3 tokens of color blue\n",
      "Predicted 2 chips of R actual is 2\n",
      "Predicted 3 chips of G actual is 1\n",
      "Predicted 3 chips of B actual is 2\n",
      "Detected 1 tokens of color red\n",
      "Detected 0 tokens of color green\n",
      "Detected 0 tokens of color blue\n",
      "Predicted 1 chips of R actual is 1\n",
      "Predicted 0 chips of G actual is 0\n",
      "Predicted 0 chips of B actual is 0\n",
      "Detected 1 tokens of color red\n",
      "Detected 1 tokens of color green\n",
      "Detected 3 tokens of color blue\n",
      "Predicted 1 chips of R actual is 1\n",
      "Predicted 1 chips of G actual is 0\n",
      "Predicted 3 chips of B actual is 1\n",
      "Detected 0 tokens of color red\n",
      "Detected 0 tokens of color green\n",
      "Detected 0 tokens of color blue\n",
      "Predicted 0 chips of R actual is 0\n",
      "Predicted 0 chips of G actual is 0\n",
      "Predicted 0 chips of B actual is 0\n",
      "Detected 2 tokens of color red\n",
      "Detected 3 tokens of color green\n",
      "Detected 3 tokens of color blue\n",
      "Predicted 2 chips of R actual is 2\n",
      "Predicted 3 chips of G actual is 1\n",
      "Predicted 3 chips of B actual is 2\n",
      "Detected 1 tokens of color red\n",
      "Detected 4 tokens of color green\n",
      "Detected 3 tokens of color blue\n",
      "Predicted 1 chips of R actual is 1\n",
      "Predicted 4 chips of G actual is 1\n",
      "Predicted 3 chips of B actual is 3\n",
      "Detected 0 tokens of color red\n",
      "Detected 0 tokens of color green\n",
      "Detected 0 tokens of color blue\n",
      "Predicted 0 chips of R actual is 0\n",
      "Predicted 0 chips of G actual is 0\n",
      "Predicted 0 chips of B actual is 0\n",
      "Detected 0 tokens of color red\n",
      "Detected 4 tokens of color green\n",
      "Detected 2 tokens of color blue\n",
      "Predicted 0 chips of R actual is 3\n",
      "Predicted 4 chips of G actual is 1\n",
      "Predicted 2 chips of B actual is 5\n",
      "Detected 0 tokens of color red\n",
      "Detected 2 tokens of color green\n",
      "Detected 1 tokens of color blue\n",
      "Predicted 0 chips of R actual is 0\n",
      "Predicted 2 chips of G actual is 1\n",
      "Predicted 1 chips of B actual is 1\n",
      "Detected 0 tokens of color red\n",
      "Detected 5 tokens of color green\n",
      "Detected 8 tokens of color blue\n",
      "Predicted 0 chips of R actual is 0\n",
      "Predicted 5 chips of G actual is 0\n",
      "Predicted 8 chips of B actual is 5\n",
      "Detected 3 tokens of color red\n",
      "Detected 0 tokens of color green\n",
      "Detected 4 tokens of color blue\n",
      "Predicted 3 chips of R actual is 3\n",
      "Predicted 0 chips of G actual is 0\n",
      "Predicted 4 chips of B actual is 0\n",
      "Detected 0 tokens of color red\n",
      "Detected 3 tokens of color green\n",
      "Detected 4 tokens of color blue\n",
      "Predicted 0 chips of R actual is 0\n",
      "Predicted 3 chips of G actual is 0\n",
      "Predicted 4 chips of B actual is 4\n",
      "Detected 1 tokens of color red\n",
      "Detected 3 tokens of color green\n",
      "Detected 4 tokens of color blue\n",
      "Predicted 1 chips of R actual is 1\n",
      "Predicted 3 chips of G actual is 0\n",
      "Predicted 4 chips of B actual is 3\n",
      "Detected 0 tokens of color red\n",
      "Detected 4 tokens of color green\n",
      "Detected 2 tokens of color blue\n",
      "Predicted 0 chips of R actual is 0\n",
      "Predicted 4 chips of G actual is 3\n",
      "Predicted 2 chips of B actual is 3\n",
      "Detected 4 tokens of color red\n",
      "Detected 4 tokens of color green\n",
      "Detected 1 tokens of color blue\n",
      "Predicted 4 chips of R actual is 5\n",
      "Predicted 4 chips of G actual is 4\n",
      "Predicted 1 chips of B actual is 0\n",
      "Detected 0 tokens of color red\n",
      "Detected 0 tokens of color green\n",
      "Detected 4 tokens of color blue\n",
      "Predicted 0 chips of R actual is 0\n",
      "Predicted 0 chips of G actual is 0\n",
      "Predicted 4 chips of B actual is 0\n",
      "Detected 0 tokens of color red\n",
      "Detected 3 tokens of color green\n",
      "Detected 1 tokens of color blue\n",
      "Predicted 0 chips of R actual is 0\n",
      "Predicted 3 chips of G actual is 4\n",
      "Predicted 1 chips of B actual is 0\n",
      "Detected 0 tokens of color red\n",
      "Detected 1 tokens of color green\n",
      "Detected 0 tokens of color blue\n",
      "Predicted 0 chips of R actual is 4\n",
      "Predicted 1 chips of G actual is 2\n",
      "Predicted 0 chips of B actual is 0\n",
      "Detected 1 tokens of color red\n",
      "Detected 2 tokens of color green\n",
      "Detected 3 tokens of color blue\n",
      "Predicted 1 chips of R actual is 2\n",
      "Predicted 2 chips of G actual is 2\n",
      "Predicted 3 chips of B actual is 0\n",
      "Detected 2 tokens of color red\n",
      "Detected 1 tokens of color green\n",
      "Detected 2 tokens of color blue\n",
      "Predicted 2 chips of R actual is 2\n",
      "Predicted 1 chips of G actual is 1\n",
      "Predicted 2 chips of B actual is 0\n",
      "Detected 0 tokens of color red\n",
      "Detected 1 tokens of color green\n",
      "Detected 2 tokens of color blue\n",
      "Predicted 0 chips of R actual is 0\n",
      "Predicted 1 chips of G actual is 1\n",
      "Predicted 2 chips of B actual is 0\n",
      "Detected 1 tokens of color red\n",
      "Detected 1 tokens of color green\n",
      "Detected 1 tokens of color blue\n",
      "Predicted 1 chips of R actual is 1\n",
      "Predicted 1 chips of G actual is 1\n",
      "Predicted 1 chips of B actual is 0\n",
      "Detected 2 tokens of color red\n",
      "Detected 2 tokens of color green\n",
      "Detected 4 tokens of color blue\n",
      "Predicted 2 chips of R actual is 2\n",
      "Predicted 2 chips of G actual is 0\n",
      "Predicted 4 chips of B actual is 2\n"
     ]
    }
   ],
   "source": [
    "#Compute accuracy\n",
    "labels = pd.read_csv('data/train/train_labels.csv')\n",
    "color_symbols = ['R','G','B','K','W']\n",
    "symbol_precisions = defaultdict(list)\n",
    "for (index,row), partition in zip(labels.iterrows(),partitions):\n",
    "    chips = partition['chips']\n",
    "    chip_counts = count_chips(chips,plot=False)\n",
    "    for symbol,count in chip_counts.items():\n",
    "        correct_count = row[symbol]\n",
    "        print(f\"Predicted {count} chips of {symbol} actual is {correct_count}\")\n",
    "        #precision = abs(count - correct_count)"
   ]
  },
  {
   "cell_type": "code",
   "execution_count": null,
   "id": "c066635f",
   "metadata": {},
   "outputs": [],
   "source": []
  }
 ],
 "metadata": {
  "interpreter": {
   "hash": "bd62a0bbe19c1c28307d102e5fb725482e3aebe916abcc5ee2c024b05f2de27e"
  },
  "kernelspec": {
   "display_name": "Python 3.8.13 ('visual')",
   "language": "python",
   "name": "python3"
  },
  "language_info": {
   "codemirror_mode": {
    "name": "ipython",
    "version": 3
   },
   "file_extension": ".py",
   "mimetype": "text/x-python",
   "name": "python",
   "nbconvert_exporter": "python",
   "pygments_lexer": "ipython3",
   "version": "3.8.13"
  }
 },
 "nbformat": 4,
 "nbformat_minor": 5
}
