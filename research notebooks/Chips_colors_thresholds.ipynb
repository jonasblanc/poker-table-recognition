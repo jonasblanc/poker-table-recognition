{
 "cells": [
  {
   "cell_type": "markdown",
   "id": "9b6efcdc",
   "metadata": {},
   "source": [
    "# This notebook is used to find thresholds to extract the chips\n",
    "Please note that you have to manually save the found threshold, the interface only help to find it.  \n",
    "Colors:   \n",
    "- blue: \"CB\"  \n",
    "- red: \"CR\"\n",
    "- green: \"CG\"\n",
    "- black: \"CK\"\n",
    "- white: \"CW\""
   ]
  },
  {
   "cell_type": "code",
   "execution_count": null,
   "id": "08fad3bb",
   "metadata": {},
   "outputs": [],
   "source": [
    "import sys\n",
    "sys.path.insert(0, '../src/')\n",
    "\n",
    "import PIL\n",
    "import numpy as np\n",
    "from chip_counter import ChipCounter\n",
    "\n",
    "\n",
    "\n",
    "img = np.array(PIL.Image.open(\"../data/chips/aligned_bright_chips.png\"))\n",
    "\n",
    "ChipCounter.window_treshold(img,color='CB', range_idx=0)"
   ]
  }
 ],
 "metadata": {
  "kernelspec": {
   "display_name": "Python 3",
   "language": "python",
   "name": "python3"
  },
  "language_info": {
   "codemirror_mode": {
    "name": "ipython",
    "version": 3
   },
   "file_extension": ".py",
   "mimetype": "text/x-python",
   "name": "python",
   "nbconvert_exporter": "python",
   "pygments_lexer": "ipython3",
   "version": "3.7.13"
  }
 },
 "nbformat": 4,
 "nbformat_minor": 5
}
