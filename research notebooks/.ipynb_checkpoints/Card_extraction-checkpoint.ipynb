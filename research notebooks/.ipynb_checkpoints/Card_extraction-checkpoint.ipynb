{
 "cells": [
  {
   "cell_type": "markdown",
   "id": "e1d6facc",
   "metadata": {},
   "source": [
    "# Card extraction research pipeline"
   ]
  },
  {
   "cell_type": "code",
   "execution_count": 12,
   "id": "d6db3313",
   "metadata": {},
   "outputs": [
    {
     "name": "stdout",
     "output_type": "stream",
     "text": [
      "The autoreload extension is already loaded. To reload it, use:\n",
      "  %reload_ext autoreload\n"
     ]
    }
   ],
   "source": [
    "%load_ext autoreload\n",
    "%autoreload 2"
   ]
  },
  {
   "cell_type": "code",
   "execution_count": 13,
   "id": "bd642b5c",
   "metadata": {},
   "outputs": [],
   "source": [
    "import sys\n",
    "sys.path.insert(0, '../src/')\n",
    "\n",
    "from research_helpers import *\n",
    "from utility_functions import *\n",
    "\n",
    "from constants import *\n",
    "import PIL.Image\n",
    "import cv2\n",
    "from math import floor\n",
    "import numpy as np\n",
    "import matplotlib.pyplot as plt\n",
    "from recognition_functions import *\n",
    "from plot_helper import *\n",
    "from table_extractor import *\n",
    "from collections import Counter"
   ]
  },
  {
   "cell_type": "markdown",
   "id": "1fa9d45f",
   "metadata": {},
   "source": [
    "### Load and partition training images"
   ]
  },
  {
   "cell_type": "code",
   "execution_count": 15,
   "id": "eb642589",
   "metadata": {
    "scrolled": false
   },
   "outputs": [],
   "source": [
    "tables_img = TableExtractor.extract_tables(load_train_imgs(),plot=False)\n",
    "partitions = partition_images(tables_img)"
   ]
  },
  {
   "cell_type": "markdown",
   "id": "eca8824a",
   "metadata": {},
   "source": [
    "### Extract bottom cards"
   ]
  },
  {
   "cell_type": "code",
   "execution_count": null,
   "id": "26155208",
   "metadata": {},
   "outputs": [],
   "source": [
    "candidate_contours_bottom_images = []\n",
    "for partition in partitions:\n",
    "    bottom_row = partition['bottom_row']\n",
    "    bottom_cards = extract_bottom_cards(bottom_row,plot=True)\n",
    "    partition['bottom_cards'] = bottom_cards"
   ]
  },
  {
   "cell_type": "markdown",
   "id": "2ad17dae",
   "metadata": {},
   "source": [
    "### Segment card pairs\n",
    "\n",
    "TODO: extract card and put in on black background"
   ]
  },
  {
   "cell_type": "code",
   "execution_count": null,
   "id": "c6528a58",
   "metadata": {},
   "outputs": [],
   "source": [
    "candidate_contours_left_images = []\n",
    "for partition in partitions:\n",
    "    left_cards = partition['left_cards']\n",
    "    candidate_contours = extract_candidate_contours(left_cards,shape_count = 1,n_thresholds=2,plot=True)\n",
    "    candidate_contours_left_images.append(candidate_contours)\n",
    "    plt.show()\n"
   ]
  },
  {
   "cell_type": "code",
   "execution_count": null,
   "id": "4555a56a",
   "metadata": {},
   "outputs": [],
   "source": [
    "for candidate_contours in candidate_contours_left_images:\n",
    "    img_area = left_cards.shape[0]*left_cards.shape[1]\n",
    "    best_contour = choose_best_pair_contour(candidate_contours,img_area)\n",
    "    fig, ax = plt.subplots(1, 1, tight_layout=True)\n",
    "    background = np.zeros_like(left_cards)\n",
    "    plot_contours(ax,best_contour,background,title=\"Best extracted contour\")\n",
    "    plt.show()"
   ]
  },
  {
   "cell_type": "code",
   "execution_count": null,
   "id": "4002652b",
   "metadata": {},
   "outputs": [],
   "source": [
    "for partition in partitions:\n",
    "    cards = partition['right_cards']"
   ]
  },
  {
   "cell_type": "code",
   "execution_count": null,
   "id": "42d589cd",
   "metadata": {},
   "outputs": [],
   "source": [
    "for partition in partitions:\n",
    "    cards = partition['top_left_cards']"
   ]
  },
  {
   "cell_type": "code",
   "execution_count": null,
   "id": "3838fee9",
   "metadata": {},
   "outputs": [],
   "source": [
    "for partition in partitions:\n",
    "    cards = partition['top_right_cards']"
   ]
  },
  {
   "cell_type": "code",
   "execution_count": null,
   "id": "3a2ef707",
   "metadata": {},
   "outputs": [],
   "source": []
  }
 ],
 "metadata": {
  "interpreter": {
   "hash": "bd62a0bbe19c1c28307d102e5fb725482e3aebe916abcc5ee2c024b05f2de27e"
  },
  "kernelspec": {
   "display_name": "Python 3",
   "language": "python",
   "name": "python3"
  },
  "language_info": {
   "codemirror_mode": {
    "name": "ipython",
    "version": 3
   },
   "file_extension": ".py",
   "mimetype": "text/x-python",
   "name": "python",
   "nbconvert_exporter": "python",
   "pygments_lexer": "ipython3",
   "version": "3.7.13"
  }
 },
 "nbformat": 4,
 "nbformat_minor": 5
}
