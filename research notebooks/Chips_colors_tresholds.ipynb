{
 "cells": [
  {
   "cell_type": "markdown",
   "id": "93c94df6",
   "metadata": {},
   "source": [
    "# This notebook is used to find tresholds to extract the chips\n",
    "Please note that you have to manually save the found treshold, the interface only help to find it."
   ]
  },
  {
   "cell_type": "code",
   "execution_count": null,
   "id": "affa4eab",
   "metadata": {},
   "outputs": [],
   "source": [
    "import sys\n",
    "sys.path.insert(0, '../src/')\n",
    "\n",
    "import PIL\n",
    "from chip_recognition import *\n",
    "\n",
    "img = np.array(PIL.Image.open(\"../data/chips/aligned_bright_chips.png\"))\n",
    "window_treshold(img,HSV_COLOR_BOUNDS,color='blue', range_idx=0)"
   ]
  }
 ],
 "metadata": {
  "kernelspec": {
   "display_name": "Python 3",
   "language": "python",
   "name": "python3"
  },
  "language_info": {
   "codemirror_mode": {
    "name": "ipython",
    "version": 3
   },
   "file_extension": ".py",
   "mimetype": "text/x-python",
   "name": "python",
   "nbconvert_exporter": "python",
   "pygments_lexer": "ipython3",
   "version": "3.7.13"
  }
 },
 "nbformat": 4,
 "nbformat_minor": 5
}
