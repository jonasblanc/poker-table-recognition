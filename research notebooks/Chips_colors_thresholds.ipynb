{
 "cells": [
  {
   "cell_type": "markdown",
   "id": "a61644cc",
   "metadata": {},
   "source": [
    "# This notebook is used to find thresholds to extract the chips\n",
    "Please note that you have to manually save the found threshold, the interface only help to find it."
   ]
  },
  {
   "cell_type": "code",
   "execution_count": null,
   "id": "c36a4df9",
   "metadata": {},
   "outputs": [],
   "source": [
    "import sys\n",
    "sys.path.insert(0, '../src/')\n",
    "\n",
    "import PIL\n",
    "import numpy as np\n",
    "from chip_counter import ChipCounter\n",
    "\n",
    "\n",
    "\n",
    "img = np.array(PIL.Image.open(\"../data/chips/aligned_bright_chips.png\"))\n",
    "ChipCounter.window_treshold(img,color='blue', range_idx=0)"
   ]
  }
 ],
 "metadata": {
  "kernelspec": {
   "display_name": "Python 3",
   "language": "python",
   "name": "python3"
  },
  "language_info": {
   "codemirror_mode": {
    "name": "ipython",
    "version": 3
   },
   "file_extension": ".py",
   "mimetype": "text/x-python",
   "name": "python",
   "nbconvert_exporter": "python",
   "pygments_lexer": "ipython3",
   "version": "3.7.13"
  }
 },
 "nbformat": 4,
 "nbformat_minor": 5
}
