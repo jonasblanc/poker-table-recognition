{
 "cells": [
  {
   "cell_type": "markdown",
   "id": "58995271",
   "metadata": {},
   "source": [
    "# Card extraction research pipeline"
   ]
  },
  {
   "cell_type": "code",
   "execution_count": 12,
   "id": "b16802eb",
   "metadata": {},
   "outputs": [
    {
     "name": "stdout",
     "output_type": "stream",
     "text": [
      "The autoreload extension is already loaded. To reload it, use:\n",
      "  %reload_ext autoreload\n"
     ]
    }
   ],
   "source": [
    "%load_ext autoreload\n",
    "%autoreload 2"
   ]
  },
  {
   "cell_type": "code",
   "execution_count": 20,
   "id": "bee4e417",
   "metadata": {},
   "outputs": [],
   "source": [
    "import sys\n",
    "sys.path.insert(0, '../src/')\n",
    "\n",
    "from research_helpers import *\n",
    "from utility_functions import *\n",
    "from constants import *\n",
    "import numpy as np\n",
    "\n",
    "import cv2\n",
    "from math import floor\n",
    "import numpy as np\n",
    "import matplotlib.pyplot as plt\n",
    "from recognition_functions import *\n",
    "from plot_helper import *\n",
    "from table_extractor import *\n",
    "from collections import Counter"
   ]
  },
  {
   "cell_type": "markdown",
   "id": "a2c8c891",
   "metadata": {},
   "source": [
    "### Load and partition training images"
   ]
  },
  {
   "cell_type": "code",
   "execution_count": 21,
   "id": "af9b8435",
   "metadata": {
    "scrolled": false
   },
   "outputs": [],
   "source": [
    "tables_img = TableExtractor.extract_tables(load_train_imgs(),plot=False)\n",
    "partitions = partition_images(tables_img)"
   ]
  },
  {
   "cell_type": "markdown",
   "id": "fb20fdd4",
   "metadata": {},
   "source": [
    "### Extract bottom cards"
   ]
  },
  {
   "cell_type": "code",
   "execution_count": 22,
   "id": "e3f386ac",
   "metadata": {},
   "outputs": [
    {
     "ename": "NameError",
     "evalue": "name 'np' is not defined",
     "output_type": "error",
     "traceback": [
      "\u001b[0;31m---------------------------------------------------------------------------\u001b[0m",
      "\u001b[0;31mNameError\u001b[0m                                 Traceback (most recent call last)",
      "\u001b[0;32m<ipython-input-22-6bdfe37fce97>\u001b[0m in \u001b[0;36m<module>\u001b[0;34m\u001b[0m\n\u001b[1;32m      2\u001b[0m \u001b[0;32mfor\u001b[0m \u001b[0mpartition\u001b[0m \u001b[0;32min\u001b[0m \u001b[0mpartitions\u001b[0m\u001b[0;34m:\u001b[0m\u001b[0;34m\u001b[0m\u001b[0;34m\u001b[0m\u001b[0m\n\u001b[1;32m      3\u001b[0m     \u001b[0mbottom_row\u001b[0m \u001b[0;34m=\u001b[0m \u001b[0mpartition\u001b[0m\u001b[0;34m[\u001b[0m\u001b[0;34m'bottom_row'\u001b[0m\u001b[0;34m]\u001b[0m\u001b[0;34m\u001b[0m\u001b[0;34m\u001b[0m\u001b[0m\n\u001b[0;32m----> 4\u001b[0;31m     \u001b[0mbottom_cards\u001b[0m \u001b[0;34m=\u001b[0m \u001b[0mextract_bottom_cards\u001b[0m\u001b[0;34m(\u001b[0m\u001b[0mbottom_row\u001b[0m\u001b[0;34m,\u001b[0m\u001b[0mplot\u001b[0m\u001b[0;34m=\u001b[0m\u001b[0;32mTrue\u001b[0m\u001b[0;34m)\u001b[0m\u001b[0;34m\u001b[0m\u001b[0;34m\u001b[0m\u001b[0m\n\u001b[0m\u001b[1;32m      5\u001b[0m     \u001b[0mpartition\u001b[0m\u001b[0;34m[\u001b[0m\u001b[0;34m'bottom_cards'\u001b[0m\u001b[0;34m]\u001b[0m \u001b[0;34m=\u001b[0m \u001b[0mbottom_cards\u001b[0m\u001b[0;34m\u001b[0m\u001b[0;34m\u001b[0m\u001b[0m\n",
      "\u001b[0;32m~/Desktop/EPFL/MA2/IAPR/poker_table_recognition/src/recognition_functions.py\u001b[0m in \u001b[0;36mextract_bottom_cards\u001b[0;34m(bottom_row, plot)\u001b[0m\n\u001b[1;32m    211\u001b[0m \u001b[0;34m\u001b[0m\u001b[0m\n\u001b[1;32m    212\u001b[0m     \u001b[0mimg_area\u001b[0m \u001b[0;34m=\u001b[0m \u001b[0mbottom_row\u001b[0m\u001b[0;34m.\u001b[0m\u001b[0mshape\u001b[0m\u001b[0;34m[\u001b[0m\u001b[0;36m0\u001b[0m\u001b[0;34m]\u001b[0m\u001b[0;34m*\u001b[0m\u001b[0mbottom_row\u001b[0m\u001b[0;34m.\u001b[0m\u001b[0mshape\u001b[0m\u001b[0;34m[\u001b[0m\u001b[0;36m1\u001b[0m\u001b[0;34m]\u001b[0m\u001b[0;34m\u001b[0m\u001b[0;34m\u001b[0m\u001b[0m\n\u001b[0;32m--> 213\u001b[0;31m     \u001b[0mcandidate_contours\u001b[0m \u001b[0;34m=\u001b[0m \u001b[0mextract_candidate_contours\u001b[0m\u001b[0;34m(\u001b[0m\u001b[0mbottom_row\u001b[0m\u001b[0;34m,\u001b[0m\u001b[0mshape_count\u001b[0m\u001b[0;34m=\u001b[0m\u001b[0;36m5\u001b[0m\u001b[0;34m)\u001b[0m\u001b[0;34m\u001b[0m\u001b[0;34m\u001b[0m\u001b[0m\n\u001b[0m\u001b[1;32m    214\u001b[0m     \u001b[0mbest_contours\u001b[0m \u001b[0;34m=\u001b[0m \u001b[0mchoose_best_bottom_contour\u001b[0m\u001b[0;34m(\u001b[0m\u001b[0mcandidate_contours\u001b[0m\u001b[0;34m,\u001b[0m\u001b[0mimg_area\u001b[0m\u001b[0;34m)\u001b[0m\u001b[0;34m\u001b[0m\u001b[0;34m\u001b[0m\u001b[0m\n\u001b[1;32m    215\u001b[0m \u001b[0;34m\u001b[0m\u001b[0m\n",
      "\u001b[0;32m~/Desktop/EPFL/MA2/IAPR/poker_table_recognition/src/recognition_functions.py\u001b[0m in \u001b[0;36mextract_candidate_contours\u001b[0;34m(img, shape_count, n_thresholds, opening_kernel_size, plot)\u001b[0m\n\u001b[1;32m     42\u001b[0m         \u001b[0mkmeans\u001b[0m \u001b[0;34m=\u001b[0m \u001b[0mKMeans\u001b[0m\u001b[0;34m(\u001b[0m\u001b[0mn_clusters\u001b[0m\u001b[0;34m=\u001b[0m\u001b[0mn_thresholds\u001b[0m\u001b[0;34m+\u001b[0m\u001b[0;36m1\u001b[0m\u001b[0;34m,\u001b[0m \u001b[0mrandom_state\u001b[0m\u001b[0;34m=\u001b[0m\u001b[0;36m0\u001b[0m\u001b[0;34m)\u001b[0m\u001b[0;34m.\u001b[0m\u001b[0mfit\u001b[0m\u001b[0;34m(\u001b[0m\u001b[0mcolors\u001b[0m\u001b[0;34m.\u001b[0m\u001b[0mreshape\u001b[0m\u001b[0;34m(\u001b[0m\u001b[0;34m-\u001b[0m\u001b[0;36m1\u001b[0m\u001b[0;34m,\u001b[0m\u001b[0;36m1\u001b[0m\u001b[0;34m)\u001b[0m\u001b[0;34m)\u001b[0m\u001b[0;34m\u001b[0m\u001b[0;34m\u001b[0m\u001b[0m\n\u001b[1;32m     43\u001b[0m         \u001b[0mcenters\u001b[0m \u001b[0;34m=\u001b[0m \u001b[0msorted\u001b[0m\u001b[0;34m(\u001b[0m\u001b[0mkmeans\u001b[0m\u001b[0;34m.\u001b[0m\u001b[0mcluster_centers_\u001b[0m\u001b[0;34m.\u001b[0m\u001b[0mflatten\u001b[0m\u001b[0;34m(\u001b[0m\u001b[0;34m)\u001b[0m\u001b[0;34m)\u001b[0m\u001b[0;34m\u001b[0m\u001b[0;34m\u001b[0m\u001b[0m\n\u001b[0;32m---> 44\u001b[0;31m         \u001b[0mthresholds\u001b[0m \u001b[0;34m=\u001b[0m \u001b[0mnp\u001b[0m\u001b[0;34m.\u001b[0m\u001b[0marray\u001b[0m\u001b[0;34m(\u001b[0m\u001b[0mlist\u001b[0m\u001b[0;34m(\u001b[0m\u001b[0mzip\u001b[0m\u001b[0;34m(\u001b[0m\u001b[0mcenters\u001b[0m\u001b[0;34m,\u001b[0m\u001b[0mcenters\u001b[0m\u001b[0;34m[\u001b[0m\u001b[0;36m1\u001b[0m\u001b[0;34m:\u001b[0m\u001b[0;34m]\u001b[0m\u001b[0;34m)\u001b[0m\u001b[0;34m)\u001b[0m\u001b[0;34m)\u001b[0m\u001b[0;34m.\u001b[0m\u001b[0mmean\u001b[0m\u001b[0;34m(\u001b[0m\u001b[0maxis\u001b[0m\u001b[0;34m=\u001b[0m\u001b[0;36m1\u001b[0m\u001b[0;34m)\u001b[0m\u001b[0;34m\u001b[0m\u001b[0;34m\u001b[0m\u001b[0m\n\u001b[0m\u001b[1;32m     45\u001b[0m \u001b[0;34m\u001b[0m\u001b[0m\n\u001b[1;32m     46\u001b[0m         \u001b[0;32mif\u001b[0m\u001b[0;34m(\u001b[0m\u001b[0mplot\u001b[0m\u001b[0;34m)\u001b[0m\u001b[0;34m:\u001b[0m\u001b[0;34m\u001b[0m\u001b[0;34m\u001b[0m\u001b[0m\n",
      "\u001b[0;31mNameError\u001b[0m: name 'np' is not defined"
     ]
    }
   ],
   "source": [
    "candidate_contours_bottom_images = []\n",
    "for partition in partitions:\n",
    "    bottom_row = partition['bottom_row']\n",
    "    bottom_cards = extract_bottom_cards(bottom_row,plot=True)\n",
    "    partition['bottom_cards'] = bottom_cards"
   ]
  },
  {
   "cell_type": "markdown",
   "id": "9fd8ea94",
   "metadata": {},
   "source": [
    "### Segment card pairs\n",
    "\n",
    "TODO: extract card and put in on black background"
   ]
  },
  {
   "cell_type": "code",
   "execution_count": null,
   "id": "17c5db0a",
   "metadata": {},
   "outputs": [],
   "source": [
    "candidate_contours_left_images = []\n",
    "for partition in partitions:\n",
    "    left_cards = partition['left_cards']\n",
    "    candidate_contours = extract_candidate_contours(left_cards,shape_count = 1,n_thresholds=2,plot=True)\n",
    "    candidate_contours_left_images.append(candidate_contours)\n",
    "    plt.show()\n"
   ]
  },
  {
   "cell_type": "code",
   "execution_count": null,
   "id": "42d86120",
   "metadata": {},
   "outputs": [],
   "source": [
    "for candidate_contours in candidate_contours_left_images:\n",
    "    img_area = left_cards.shape[0]*left_cards.shape[1]\n",
    "    best_contour = choose_best_pair_contour(candidate_contours,img_area)\n",
    "    fig, ax = plt.subplots(1, 1, tight_layout=True)\n",
    "    background = np.zeros_like(left_cards)\n",
    "    plot_contours(ax,best_contour,background,title=\"Best extracted contour\")\n",
    "    plt.show()"
   ]
  },
  {
   "cell_type": "code",
   "execution_count": null,
   "id": "23c0067f",
   "metadata": {},
   "outputs": [],
   "source": [
    "for partition in partitions:\n",
    "    cards = partition['right_cards']"
   ]
  },
  {
   "cell_type": "code",
   "execution_count": null,
   "id": "c8c0dffc",
   "metadata": {},
   "outputs": [],
   "source": [
    "for partition in partitions:\n",
    "    cards = partition['top_left_cards']"
   ]
  },
  {
   "cell_type": "code",
   "execution_count": null,
   "id": "f12d0e15",
   "metadata": {},
   "outputs": [],
   "source": [
    "for partition in partitions:\n",
    "    cards = partition['top_right_cards']"
   ]
  },
  {
   "cell_type": "code",
   "execution_count": null,
   "id": "82ca2bdb",
   "metadata": {},
   "outputs": [],
   "source": []
  }
 ],
 "metadata": {
  "interpreter": {
   "hash": "bd62a0bbe19c1c28307d102e5fb725482e3aebe916abcc5ee2c024b05f2de27e"
  },
  "kernelspec": {
   "display_name": "Python 3",
   "language": "python",
   "name": "python3"
  },
  "language_info": {
   "codemirror_mode": {
    "name": "ipython",
    "version": 3
   },
   "file_extension": ".py",
   "mimetype": "text/x-python",
   "name": "python",
   "nbconvert_exporter": "python",
   "pygments_lexer": "ipython3",
   "version": "3.7.13"
  }
 },
 "nbformat": 4,
 "nbformat_minor": 5
}
